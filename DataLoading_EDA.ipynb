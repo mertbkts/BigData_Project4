{
 "cells": [
  {
   "cell_type": "code",
   "execution_count": 3,
   "metadata": {},
   "outputs": [
    {
     "name": "stderr",
     "output_type": "stream",
     "text": [
      "23/05/27 19:35:50 WARN SparkSession: Using an existing Spark session; only runtime SQL configurations will take effect.\n",
      "                                                                                \r"
     ]
    },
    {
     "name": "stdout",
     "output_type": "stream",
     "text": [
      "+-------+---+------+\n",
      "|   Name|Age|Gender|\n",
      "+-------+---+------+\n",
      "|  Alice| 25|     F|\n",
      "|    Bob| 30|     M|\n",
      "|Charlie| 35|     M|\n",
      "|  Diana| 28|     F|\n",
      "+-------+---+------+\n",
      "\n",
      "+------+-----+\n",
      "|Gender|count|\n",
      "+------+-----+\n",
      "|     M|    1|\n",
      "+------+-----+\n",
      "\n"
     ]
    }
   ],
   "source": [
    "from pyspark.sql import SparkSession\n",
    "from pyspark.sql.functions import col\n",
    "\n",
    "# Create a SparkSession\n",
    "spark = SparkSession.builder.appName(\"Example\").getOrCreate()\n",
    "\n",
    "# Generate example data\n",
    "data = [(\"Alice\", 25, \"F\"), (\"Bob\", 30, \"M\"), (\"Charlie\", 35, \"M\"), (\"Diana\", 28, \"F\")]\n",
    "df = spark.createDataFrame(data, [\"Name\", \"Age\", \"Gender\"])\n",
    "\n",
    "# Show the DataFrame\n",
    "df.show()\n",
    "\n",
    "# Filter data for people older than 30\n",
    "filtered_df = df.filter(col(\"Age\") > 30)\n",
    "\n",
    "# Count the number of males and females\n",
    "gender_counts = filtered_df.groupBy(\"Gender\").count()\n",
    "\n",
    "# Show the resulting DataFrame\n",
    "gender_counts.show()\n"
   ]
  },
  {
   "cell_type": "code",
   "execution_count": null,
   "metadata": {},
   "outputs": [],
   "source": [
    "# Readıng a json fıle to spark parquet\n",
    "# Path: DataLoading_EDA.ipynb\n",
    "from pyspark.sql import SparkSession\n",
    "\n",
    "# Create a SparkSession\n",
    "spark = SparkSession.builder.appName(\"Example\").getOrCreate()\n",
    "\n",
    "# Read the JSON file into a Spark DataFrame\n",
    "df = spark.read.json(\"data.json\")\n",
    "\n",
    "# Print the schema of the DataFrame\n",
    "df.printSchema()\n",
    "\n",
    "# Show the first 3 rows\n",
    "df.show(3)\n",
    "\n",
    "# Write the DataFrame to a Parquet file\n",
    "df.write.parquet(\"data.parquet\")\n",
    "\n",
    "# Read the Parquet file into a Spark DataFrame\n",
    "df = spark.read.parquet(\"data.parquet\")\n",
    "\n",
    "# Print the schema of the DataFrame\n",
    "\n",
    "df.printSchema()\n"
   ]
  }
 ],
 "metadata": {
  "kernelspec": {
   "display_name": "nlp",
   "language": "python",
   "name": "python3"
  },
  "language_info": {
   "codemirror_mode": {
    "name": "ipython",
    "version": 3
   },
   "file_extension": ".py",
   "mimetype": "text/x-python",
   "name": "python",
   "nbconvert_exporter": "python",
   "pygments_lexer": "ipython3",
   "version": "3.9.16"
  },
  "orig_nbformat": 4
 },
 "nbformat": 4,
 "nbformat_minor": 2
}
